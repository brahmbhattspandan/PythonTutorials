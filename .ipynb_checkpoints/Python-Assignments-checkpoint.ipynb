{
 "cells": [
  {
   "cell_type": "markdown",
   "metadata": {},
   "source": [
    "# Assignments, Expressions, and Prints"
   ]
  },
  {
   "cell_type": "markdown",
   "metadata": {},
   "source": [
    "- Assignments create object references.\n",
    "- Names are created when first assigned.\n",
    "- Names must be assigned before being referenced."
   ]
  },
  {
   "cell_type": "code",
   "execution_count": 1,
   "metadata": {
    "collapsed": false
   },
   "outputs": [
    {
     "name": "stdout",
     "output_type": "stream",
     "text": [
      "bar-----24-----1-----foo\n",
      "R-----a-----y-----B-----['i', 'l', 'l']\n"
     ]
    }
   ],
   "source": [
    "a = 'bar'\n",
    "b = 24\n",
    "c,d = 1, 'foo'\n",
    "x,y,z = 'Ray'\n",
    "p, *q = 'Bill'\n",
    "print(a,b,c,d, sep=\"-----\")\n",
    "print(x,y,z,p,q, sep=\"-----\")"
   ]
  },
  {
   "cell_type": "code",
   "execution_count": 2,
   "metadata": {
    "collapsed": false
   },
   "outputs": [
    {
     "name": "stdout",
     "output_type": "stream",
     "text": [
      "1 2 3 4\n"
     ]
    }
   ],
   "source": [
    "# In Python 3.X only.\n",
    "seq = [1, 2, 3, 4]\n",
    "a, b, c, d = seq\n",
    "print(a, b, c, d)"
   ]
  },
  {
   "cell_type": "code",
   "execution_count": 3,
   "metadata": {
    "collapsed": false
   },
   "outputs": [
    {
     "name": "stdout",
     "output_type": "stream",
     "text": [
      "1\n",
      "[2, 3, 4]\n"
     ]
    }
   ],
   "source": [
    "a, *b = seq\n",
    "print(a)\n",
    "print(b)\n",
    "# >>> a, *b, c = seq\n",
    "# >>> a, b, *c = seq"
   ]
  },
  {
   "cell_type": "code",
   "execution_count": 4,
   "metadata": {
    "collapsed": false
   },
   "outputs": [
    {
     "name": "stdout",
     "output_type": "stream",
     "text": [
      "1 2 3 4 []\n"
     ]
    }
   ],
   "source": [
    "a, b, c, d, *e = seq\n",
    "print(a, b, c, d, e)\n",
    "# Same output in  >>> a, b, *e, c, d = seq"
   ]
  },
  {
   "cell_type": "code",
   "execution_count": null,
   "metadata": {
    "collapsed": true
   },
   "outputs": [],
   "source": [
    "\"\"\"\n",
    "Error Cases :\n",
    ">>> a, *b, c, *d = seq     #SyntaxError: two starred expressions in assignment\n",
    ">>> a, b = seq             #ValueError: too many values to unpack (expected 2)\n",
    ">>> *a = seq               #SyntaxError: starred assignment target must be in a list or tuple\n",
    ">>> *a, = seq              #This will work\n",
    "\"\"\""
   ]
  },
  {
   "cell_type": "code",
   "execution_count": 5,
   "metadata": {
    "collapsed": false
   },
   "outputs": [
    {
     "data": {
      "text/plain": [
       "(0, 1)"
      ]
     },
     "execution_count": 5,
     "metadata": {},
     "output_type": "execute_result"
    }
   ],
   "source": [
    "# Multiple-target assignment and shared references - Immutable Data \n",
    "a = b = 0\n",
    "b = b + 1\n",
    "a, b"
   ]
  },
  {
   "cell_type": "code",
   "execution_count": 6,
   "metadata": {
    "collapsed": false
   },
   "outputs": [
    {
     "data": {
      "text/plain": [
       "([42], [42])"
      ]
     },
     "execution_count": 6,
     "metadata": {},
     "output_type": "execute_result"
    }
   ],
   "source": [
    "# Multiple-target assignment and shared references - Mutable Data\n",
    "a = b = []\n",
    "b.append(42)\n",
    "a, b"
   ]
  },
  {
   "cell_type": "code",
   "execution_count": 7,
   "metadata": {
    "collapsed": false
   },
   "outputs": [
    {
     "data": {
      "text/plain": [
       "([1, 2, 3, 4], [1, 2])"
      ]
     },
     "execution_count": 7,
     "metadata": {},
     "output_type": "execute_result"
    }
   ],
   "source": [
    "# Augmented assignment and shared references - Concatenation\n",
    "L = [1, 2]\n",
    "M = L\n",
    "L = L + [3, 4]                # Concatenation makes a new object\n",
    "L, M"
   ]
  },
  {
   "cell_type": "code",
   "execution_count": 8,
   "metadata": {
    "collapsed": false
   },
   "outputs": [
    {
     "data": {
      "text/plain": [
       "([1, 2, 3, 4], [1, 2, 3, 4])"
      ]
     },
     "execution_count": 8,
     "metadata": {},
     "output_type": "execute_result"
    }
   ],
   "source": [
    "# Augmented assignment and shared references - Augmented Assignment\n",
    "L = [1, 2]\n",
    "M = L\n",
    "L += [3, 4]                  # Makes In-place changes\n",
    "L, M"
   ]
  },
  {
   "cell_type": "markdown",
   "metadata": {},
   "source": [
    "## Rules\n",
    "- Syntax: (underscore or letter) + (any number of letters, digits, or underscores)\n",
    "- Case matters: SPAM is not the same as spam\n",
    "- Reserved words are off-limits\n",
    "## Convention\n",
    "- Names begining underscore (_X) are'nt imported from module import * statement.\n",
    "- Names with (__X__) syntax are system defined"
   ]
  },
  {
   "cell_type": "code",
   "execution_count": 9,
   "metadata": {
    "collapsed": false
   },
   "outputs": [
    {
     "name": "stdout",
     "output_type": "stream",
     "text": [
      "1 2\n",
      "1#2\n"
     ]
    }
   ],
   "source": [
    "X = 1; Y = 2\n",
    "print(X, Y)        # Python 3.X syntax\n",
    "# print X,Y     # Python 2.X syntax\n",
    "print(X,Y, sep=\"#\")"
   ]
  },
  {
   "cell_type": "code",
   "execution_count": null,
   "metadata": {
    "collapsed": true
   },
   "outputs": [],
   "source": []
  }
 ],
 "metadata": {
  "kernelspec": {
   "display_name": "Python 3",
   "language": "python",
   "name": "python3"
  },
  "language_info": {
   "codemirror_mode": {
    "name": "ipython",
    "version": 3
   },
   "file_extension": ".py",
   "mimetype": "text/x-python",
   "name": "python",
   "nbconvert_exporter": "python",
   "pygments_lexer": "ipython3",
   "version": "3.5.0b4"
  }
 },
 "nbformat": 4,
 "nbformat_minor": 0
}
