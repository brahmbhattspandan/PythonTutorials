{
 "cells": [
  {
   "cell_type": "markdown",
   "metadata": {},
   "source": [
    "# Functions And Generators"
   ]
  },
  {
   "cell_type": "markdown",
   "metadata": {},
   "source": [
    "## Function Basics"
   ]
  },
  {
   "cell_type": "code",
   "execution_count": null,
   "metadata": {
    "collapsed": true
   },
   "outputs": [],
   "source": [
    "\"\"\"\n",
    "def name(arg1, arg2,... argN): \n",
    "    ...\n",
    "    return value\n",
    "\"\"\"\n",
    "def times(x, y):\n",
    "    return x * y\n",
    "x = times(3,5)\n",
    "\n",
    "def intersect(seq1, seq2): \n",
    "    res = []\n",
    "    for x in seq1:\n",
    "        if x in seq2:\n",
    "            res.append(x) \n",
    "    return res\n",
    "s1 = \"SPAM\"\n",
    "s2 = \"SCAM\"\n",
    "y = intersect(s1, s2)\n",
    "x = intersect([1, 2, 3], (1, 4))         # You can use mixed type also as long as they follow the method interface."
   ]
  },
  {
   "cell_type": "markdown",
   "metadata": {},
   "source": [
    "## Scopes"
   ]
  },
  {
   "cell_type": "code",
   "execution_count": null,
   "metadata": {
    "collapsed": true
   },
   "outputs": [],
   "source": [
    "# inside a def --> Local\n",
    "# in enclosed def --> non local\n",
    "# outside all def --> Global\n",
    "# Global scope\n",
    "X = 99\n",
    "def func(Y):        # Local scope\n",
    "    Z = X + Y\n",
    "    return Z\n",
    "a = func(1)\n",
    "\n",
    "\n",
    "# Global Statement\n",
    "\n",
    "A = 88\n",
    "def func(): \n",
    "    global A\n",
    "    A = 99\n",
    "func() \n",
    "print(A)\n",
    "\n",
    "# Ways to access globals\n",
    "\n",
    "# thismod.py\n",
    "\n",
    "var = 99\n",
    "def local(): \n",
    "    var = 0                # Change local var\n",
    "\n",
    "def glob1(): \n",
    "    global var\n",
    "    var += 1               # Change global var\n",
    "\n",
    "def glob2(): \n",
    "    var = 0                # Change local var\n",
    "    import thismod \n",
    "    thismod.var += 1       # Change global var\n",
    "\n",
    "def glob3(): \n",
    "    var = 0                # Change local var\n",
    "    import sys\n",
    "    glob = sys.modules['thismod']       # Change global var\n",
    "    glob.var += 1\n",
    "\n",
    "    def test(): \n",
    "        print(var)\n",
    "        local(); glob1(); glob2(); glob3() \n",
    "        print(var)                     # prints 99 102"
   ]
  },
  {
   "cell_type": "code",
   "execution_count": null,
   "metadata": {
    "collapsed": true
   },
   "outputs": [],
   "source": [
    "# Nested Scope - LEGB  Rule\n",
    "X = 99\n",
    "def f1(): \n",
    "    X = 88\n",
    "    def f2(): \n",
    "        print(X)\n",
    "    f2() \n",
    "\n",
    "f1()             # Will print 88\n",
    "\n",
    "def f1(): \n",
    "    X = 88\n",
    "    def f2(): \n",
    "        print(X)\n",
    "    return f2      # Possible to return function also.\n",
    "\n",
    "action = f1() \n",
    "action()\n",
    "\n",
    "\n",
    "# Closures\n",
    "\n",
    "def maker(N):\n",
    "    def action(X):        # Make and return action\n",
    "        return X ** N     # action retains N from enclosing scope \n",
    "    return action\n",
    "\n",
    "f = maker(2)\n",
    "f(3)\n",
    "f(4)\n",
    "\n",
    "def maker(N):\n",
    "    return lambda X: X ** N\n",
    "\n",
    "h = maker(3)\n",
    "h(4)"
   ]
  },
  {
   "cell_type": "code",
   "execution_count": null,
   "metadata": {
    "collapsed": true
   },
   "outputs": [],
   "source": [
    "'''\n",
    "To import variables in other file :\n",
    "# first.py\n",
    "X = 99                    # This code doesn't know about second.py\n",
    "\n",
    "# second.py\n",
    "import first \n",
    "print(first.X)            # OK: references a name in another file \n",
    "first.X = 88              # But changing it can be too subtle and implicit\n",
    "'''\n",
    "\n",
    "'''\n",
    "A better way to do it.\n",
    "# first.py\n",
    "X = 99\n",
    "def setX(new): \n",
    "    global X\n",
    "    X = new\n",
    "# second.py\n",
    "import first \n",
    "first.setX(88)            # Call the function instead of changing directly\n",
    "'''"
   ]
  },
  {
   "cell_type": "code",
   "execution_count": null,
   "metadata": {
    "collapsed": true
   },
   "outputs": [],
   "source": [
    "# The nonlocal Statement in 3.X\n",
    "'''\n",
    "def tester(start): \n",
    "    state = start\n",
    "    def nested(label): \n",
    "        print(label, state) \n",
    "        state += 1                       # Cannot change by default (never in 2.X)\n",
    "    return nested\n",
    "\n",
    "F = tester(0)\n",
    "F('spam')\n",
    "UnboundLocalError: local variable 'state' referenced before assignment\n",
    "'''\n",
    "\n",
    "def tester(start): \n",
    "    state = start                       # Each call gets its own state\n",
    "    def nested(label): \n",
    "        nonlocal state                  # Remembers state in enclosing scope\n",
    "        print(label, state)\n",
    "        state += 1                      # Allowed to change it if nonlocal\n",
    "    return nested\n",
    "F = tester(0)\n",
    "F('spam')                               # spam 0\n",
    "F('ham')                                # ham 1\n",
    "F('eggs')                               # eggs 2"
   ]
  },
  {
   "cell_type": "markdown",
   "metadata": {},
   "source": [
    "## Arguments\n",
    "\n",
    "- Arguments are passed by automatically assigning objects to local variable names.\n",
    "- Assigning to argument names inside a function does not affect the caller.\n",
    "- Changing a mutable object argument in a function may impact the caller. \n",
    "- Immutable arguments are effectively passed “by value.”\n",
    "- Mutable arguments are effectively passed “by pointer.”"
   ]
  },
  {
   "cell_type": "code",
   "execution_count": null,
   "metadata": {
    "collapsed": true
   },
   "outputs": [],
   "source": [
    "def f(a): \n",
    "    a = 99\n",
    "b = 88\n",
    "f(b)\n",
    "print(b)          # 88. Doesnt change the value\n",
    "\n",
    "def changer(a, b):\n",
    "    a= 2\n",
    "    b[0] = 'spam'\n",
    "\n",
    "X = 1\n",
    "L = [1, 2]\n",
    "changer(X, L)\n",
    "\n",
    "# Way to avoid mutable change \n",
    "def changer(a, b):\n",
    "    b = b[:] # Copy input list so we don't impact caller \n",
    "    a= 2\n",
    "    b[0] = 'spam'\n",
    "    \n",
    "# Return multiple new values in a tuple\n",
    "\n",
    "def multiple(x, y): \n",
    "    x = 2\n",
    "    y = [3, 4]\n",
    "    return x, y\n",
    "\n",
    "X = 1\n",
    "L = [1, 2]\n",
    "X, L = multiple(X, L)\n",
    "\n",
    "def mysum(L): \n",
    "    if not L:\n",
    "        return 0 \n",
    "    else:\n",
    "        return L[0] + mysum(L[1:])             # Call myself recursively\n",
    "mysum([1, 2, 3, 4, 5])"
   ]
  },
  {
   "cell_type": "markdown",
   "metadata": {},
   "source": [
    "## Argument Matching Basics\n",
    "- Positionals: matched from left to right\n",
    "- Keywords: matched by argument name\n",
    "- Defaults: specify values for optional arguments that aren’t passed\n",
    "- Varargs collecting: collect arbitrarily many positional or keyword arguments\n",
    "- Varargs unpacking: pass arbitrarily many positional or keyword arguments\n",
    "- Keyword-only arguments: arguments that must be passed by name\n",
    "\n",
    "! [Argument Matching Syntax](image_link_here)"
   ]
  },
  {
   "cell_type": "code",
   "execution_count": null,
   "metadata": {
    "collapsed": true
   },
   "outputs": [],
   "source": [
    "# Keyword and Default Examples\n",
    "def f(a, b, c): print(a, b, c)\n",
    "\n",
    "f(c=3, b=2, a=1)\n",
    "f(1, c=3, b=2)         # a gets 1 by position, b and c passed by name\n",
    "\n",
    "def f(a, b=2, c=3): print(a, b, c)      # a required, b and c optional\n",
    "f(1)\n",
    "f(a=1)\n",
    "f(1, 4)             # Override defaults\n",
    "f(1, c=6)           # Choose defaults\n",
    "\n",
    "# Arbitrary Arguments Examples\n",
    "def f(*args): print(args)\n",
    "f()\n",
    "f(1)\n",
    "f(1, 2, 3, 4)\n",
    "\n",
    "def f(**args): print(args)\n",
    "f()\n",
    "f(a=1, b=2)\n",
    "\n",
    "def f(a, *pargs, **kargs): print(a, pargs, kargs)\n",
    "f(1, 2, 3, x=1, y=2)               # 1 (2, 3) {'y': 2, 'x': 1}\n",
    "\n",
    "# Python 3.X Keyword-Only Arguments\n",
    "def kwonly(a, *b, c): \n",
    "    print(a, b, c)\n",
    "    \n",
    "kwonly(1, 2, c=3)\n",
    "# kwonly(1, 2, 3)      This gives error\n",
    "\n",
    "def kwonly(a, *, b, c): \n",
    "    print(a, b, c)\n",
    "    \n",
    "kwonly(1, c=3, b=2)\n",
    "\n",
    "# def f(a, *b, **d, c=6): print(a, b, c, d)\n",
    "def f(a, *b, c=6, **d): print(a, b, c, d)"
   ]
  },
  {
   "cell_type": "markdown",
   "metadata": {},
   "source": [
    "## Lambda Functions"
   ]
  },
  {
   "cell_type": "code",
   "execution_count": null,
   "metadata": {
    "collapsed": true
   },
   "outputs": [],
   "source": [
    "\"\"\"\n",
    "General Syntax\n",
    "    lambda argument1, argument2,... argumentN : expression using arguments\n",
    "\"\"\" \n",
    "def func(x, y, z): return x + y + z\n",
    "f = lambda x, y, z: x + y + z\n",
    "x = (lambda a=\"fee\", b=\"fie\", c=\"foe\": a + b + c)\n",
    "\n",
    "def knights(): \n",
    "    title = 'Sir'\n",
    "    action = (lambda x: title + ' ' + x)\n",
    "    return action\n",
    "\n",
    "act = knights()\n",
    "msg = act('robin')\n",
    "msg                        # Sir robin"
   ]
  },
  {
   "cell_type": "markdown",
   "metadata": {},
   "source": [
    "## Comprehensions and Generations"
   ]
  },
  {
   "cell_type": "code",
   "execution_count": null,
   "metadata": {
    "collapsed": true
   },
   "outputs": [],
   "source": [
    "# List comprehension vs map\n",
    "\n",
    "res = list(map(ord, 'spam'))\n",
    "res = [ord(x) for x in 'spam']\n",
    "\n",
    "list(map((lambda x: x ** 2), range(10)))\n",
    "[x ** 2 for x in range(10)]\n",
    "\n",
    "# Adding Tests and Nested Loops: filter\n",
    "\n",
    "list(filter((lambda x: x % 2 == 0), range(5))) [0, 2, 4]\n",
    "[x for x in range(5) if x % 2 == 0]\n",
    "\n",
    "# You can combine map and filter but it gets complicated\n",
    "list( map((lambda x: x**2), filter((lambda x: x % 2 == 0), range(10))) )\n",
    "[x ** 2 for x in range(10) if x % 2 == 0]\n",
    "\n",
    "\n",
    "[(x, y) for x in range(5) if x % 2 == 0 for y in range(5) if y % 2 == 1]\n",
    "\n",
    "\"\"\"\n",
    "General Syntax :\n",
    "\n",
    "[ expression for target1 in iterable1 if condition1\n",
    "    for target2 in iterable2 if condition2 ...\n",
    "    for targetN in iterableN if conditionN ]\n",
    "\"\"\"\n",
    "\n",
    "[(x, y) for x in range(5) if x % 2 == 0 for y in range(5) if y % 2 == 1]"
   ]
  },
  {
   "cell_type": "code",
   "execution_count": null,
   "metadata": {
    "collapsed": true
   },
   "outputs": [],
   "source": [
    "# Generator Functions and Expressions\n",
    "\"\"\"\n",
    "Generator functions -  coded as normal def statements, but use yield statements to return results one at a time\n",
    "\n",
    "Generatorexpressions - similar to list comprehensions but they return an object that produces results on demand\n",
    "\"\"\"\n",
    "\n",
    "def gensquares(N):\n",
    "    for i in range(N):\n",
    "        yield i ** 2              # Resume here later\n",
    "    \n",
    "for i in gensquares(5):           # Resume the function \n",
    "    print(i, end=' : ')\n",
    "    \n",
    "(x ** 2 for x in range(4))         # Generator expression: make an iterable\n",
    "\n",
    "list(x ** 2 for x in range(4))"
   ]
  }
 ],
 "metadata": {
  "kernelspec": {
   "display_name": "Python 3",
   "language": "python",
   "name": "python3"
  },
  "language_info": {
   "codemirror_mode": {
    "name": "ipython",
    "version": 3
   },
   "file_extension": ".py",
   "mimetype": "text/x-python",
   "name": "python",
   "nbconvert_exporter": "python",
   "pygments_lexer": "ipython3",
   "version": "3.5.0b4"
  }
 },
 "nbformat": 4,
 "nbformat_minor": 0
}
