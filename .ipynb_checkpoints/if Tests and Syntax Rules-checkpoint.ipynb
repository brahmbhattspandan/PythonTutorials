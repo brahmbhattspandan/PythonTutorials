{
 "cells": [
  {
   "cell_type": "markdown",
   "metadata": {},
   "source": [
    "## Python Syntax\n",
    "- Statements execute one after another, until you say otherwise.\n",
    "- Block and statement boundaries are detected automatically.\n",
    "- Compound statements = header+ “:” + indented statements.\n",
    "- Blank lines, spaces, and comments are usually ignored.\n",
    "- Avoid mixing tabs and spaces: New error checking in 3.X"
   ]
  },
  {
   "cell_type": "markdown",
   "metadata": {},
   "source": [
    "## If Statement"
   ]
  },
  {
   "cell_type": "code",
   "execution_count": 1,
   "metadata": {
    "collapsed": false
   },
   "outputs": [
    {
     "name": "stdout",
     "output_type": "stream",
     "text": [
      "three\n"
     ]
    }
   ],
   "source": [
    "x = 3\n",
    "if x == 1:\n",
    "    print('one')\n",
    "elif x == 2:\n",
    "    print('two')\n",
    "else :\n",
    "    print('three')"
   ]
  },
  {
   "cell_type": "code",
   "execution_count": 3,
   "metadata": {
    "collapsed": false
   },
   "outputs": [
    {
     "data": {
      "text/plain": [
       "1"
      ]
     },
     "execution_count": 3,
     "metadata": {},
     "output_type": "execute_result"
    }
   ],
   "source": [
    "# Ternary Operator      A = Y if X else Z\n",
    "A = 1 if x==3 else 0\n",
    "A"
   ]
  },
  {
   "cell_type": "markdown",
   "metadata": {},
   "source": [
    "## While Loop"
   ]
  },
  {
   "cell_type": "code",
   "execution_count": 9,
   "metadata": {
    "collapsed": false
   },
   "outputs": [
    {
     "name": "stdout",
     "output_type": "stream",
     "text": [
      "0 1 2 3 4 5 6 7 8 9 \n",
      "-------------------------\n",
      "-------------------------\n",
      "8 6 4 2 0 "
     ]
    }
   ],
   "source": [
    "'''\n",
    "while test: \n",
    "    statements\n",
    "'''\n",
    "a=0; b=10\n",
    "while a < b:\n",
    "    print(a, end=' ')\n",
    "    a += 1\n",
    "print()\n",
    "print(\"-----\"*5)\n",
    "print(\"-----\"*5)\n",
    "'''\n",
    "while test: \n",
    "    statements\n",
    "    if test: break           # Exit loop now, skip else if present\n",
    "    if test: continue        # Go to top of loop now, to test1\n",
    "else:\n",
    "    statements\n",
    "'''\n",
    "x = 10 \n",
    "while x:\n",
    "    x = x - 1 \n",
    "    if x % 2 != 0: continue \n",
    "    print(x, end=' ')"
   ]
  },
  {
   "cell_type": "markdown",
   "metadata": {},
   "source": [
    "## For Loop"
   ]
  },
  {
   "cell_type": "code",
   "execution_count": 10,
   "metadata": {
    "collapsed": false
   },
   "outputs": [
    {
     "name": "stdout",
     "output_type": "stream",
     "text": [
      "spam eggs ham \n",
      "-------------------------\n",
      "-------------------------\n",
      "1 2\n",
      "3 4\n",
      "5 6\n",
      "\n",
      "-------------------------\n",
      "-------------------------\n",
      "1 [2, 3] 4\n",
      "5 [6, 7] 8\n"
     ]
    }
   ],
   "source": [
    "'''\n",
    "for target in object: \n",
    "    statements\n",
    "    if test: break\n",
    "    if test: continue \n",
    "'''\n",
    "for x in [\"spam\", \"eggs\", \"ham\"]:\n",
    "    print(x, end=' ')\n",
    "print()\n",
    "print(\"-----\"*5)\n",
    "print(\"-----\"*5)    \n",
    "T = [(1, 2), (3, 4), (5, 6)]\n",
    "for (a, b) in T:\n",
    "    print(a, b)\n",
    "print()\n",
    "print(\"-----\"*5)\n",
    "print(\"-----\"*5) \n",
    "# Only in Python 3.X\n",
    "for (a, *b, c) in [(1, 2, 3, 4), (5, 6, 7, 8)]: \n",
    "    print(a, b, c)"
   ]
  },
  {
   "cell_type": "code",
   "execution_count": 11,
   "metadata": {
    "collapsed": false
   },
   "outputs": [
    {
     "name": "stdout",
     "output_type": "stream",
     "text": [
      "0 Pythons\n",
      "1 Pythons\n",
      "2 Pythons\n",
      "\n",
      "-------------------------\n",
      "-------------------------\n",
      "s p a m \n",
      "-------------------------\n",
      "-------------------------\n",
      "1 5 -- 6\n",
      "2 6 -- 8\n",
      "3 7 -- 10\n",
      "4 8 -- 12\n"
     ]
    }
   ],
   "source": [
    "# Counter Loops: range\n",
    "list(range(5)), list(range(2, 5)), list(range(0, 10, 2))\n",
    "for i in range(3):\n",
    "    print(i, 'Pythons')\n",
    "print()\n",
    "print(\"-----\"*5)\n",
    "print(\"-----\"*5)\n",
    "\n",
    "X = 'spam'\n",
    "for item in X: print(item, end=' ')\n",
    "print()\n",
    "print(\"-----\"*5)\n",
    "print(\"-----\"*5)\n",
    "\n",
    "# Parallel Traversals: zip\n",
    "L1 = [1,2,3,4]\n",
    "L2 = [5,6,7,8]\n",
    "list(zip(L1, L2))\n",
    "for (x, y) in zip(L1, L2):\n",
    "    print(x, y, '--', x+y)"
   ]
  },
  {
   "cell_type": "markdown",
   "metadata": {},
   "source": [
    "## Iterations and Comprehensions"
   ]
  },
  {
   "cell_type": "code",
   "execution_count": 20,
   "metadata": {
    "collapsed": false
   },
   "outputs": [
    {
     "name": "stdout",
     "output_type": "stream",
     "text": [
      "1 4 9 16 \n",
      "-------------------------\n",
      "-------------------------\n",
      "[11, 12, 13, 14, 15]\n",
      "-------------------------\n",
      "-------------------------\n",
      "[21, 22, 23, 24, 25]\n",
      "-------------------------\n",
      "-------------------------\n",
      "['al', 'am', 'an', 'bl', 'bm', 'bn', 'cl', 'cm', 'cn']\n"
     ]
    },
    {
     "data": {
      "text/plain": [
       "\"\\nfor line in open('script2.py'):     # In o\\n    print(line.upper(), end='')\\n\\n# Filter Clause :\\n\\n[line.upper() for line in open('script2.py')]\\nlines = [line.rstrip() for line in open('script2.py') if line[0] == 'p']\\n\\n\""
      ]
     },
     "execution_count": 20,
     "metadata": {},
     "output_type": "execute_result"
    }
   ],
   "source": [
    "for x in [1, 2, 3, 4]: print(x ** 2, end=' ')\n",
    "    \n",
    "print()\n",
    "print(\"-----\"*5)\n",
    "print(\"-----\"*5)\n",
    "\n",
    "# Iterator vs Comprehension \n",
    "L = [1, 2, 3, 4, 5]\n",
    "for i in range(len(L)):\n",
    "    L[i] += 10\n",
    "print(L)\n",
    "print(\"-----\"*5)\n",
    "print(\"-----\"*5)\n",
    "\n",
    "# is same as\n",
    "L = [x + 10 for x in L]\n",
    "print(L)\n",
    "print(\"-----\"*5)\n",
    "print(\"-----\"*5)\n",
    "# Nested For Loop :\n",
    "r2d2 = [x + y for x in 'abc' for y in 'lmn']\n",
    "print(r2d2)\n",
    "'''\n",
    "for line in open('script2.py'):     # In o\n",
    "    print(line.upper(), end='')\n",
    "\n",
    "# Filter Clause :\n",
    "\n",
    "[line.upper() for line in open('script2.py')]\n",
    "lines = [line.rstrip() for line in open('script2.py') if line[0] == 'p']\n",
    "\n",
    "'''"
   ]
  },
  {
   "cell_type": "code",
   "execution_count": null,
   "metadata": {
    "collapsed": true
   },
   "outputs": [],
   "source": []
  }
 ],
 "metadata": {
  "kernelspec": {
   "display_name": "Python 3",
   "language": "python",
   "name": "python3"
  },
  "language_info": {
   "codemirror_mode": {
    "name": "ipython",
    "version": 3
   },
   "file_extension": ".py",
   "mimetype": "text/x-python",
   "name": "python",
   "nbconvert_exporter": "python",
   "pygments_lexer": "ipython3",
   "version": "3.5.0b4"
  }
 },
 "nbformat": 4,
 "nbformat_minor": 0
}
