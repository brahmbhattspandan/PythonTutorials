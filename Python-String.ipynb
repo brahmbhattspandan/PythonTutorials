{
 "cells": [
  {
   "cell_type": "code",
   "execution_count": null,
   "metadata": {
    "collapsed": true
   },
   "outputs": [],
   "source": [
    "S = ''     # Empty String\n",
    "S = \"Don't\"  # Same as single quote\n",
    "S = 's\\np\\ta\\x00m'\n",
    "S = \"\"\"\n",
    "S\n",
    "P\n",
    "A\n",
    "M\n",
    "\"\"\"       # Multiline \n",
    "S = r'\\temp\\spam'   # Raw String\n",
    "'shrubbery', \"shrubbery\"     # Both are Same\n",
    "'knight\"s', \"knight's\""
   ]
  },
  {
   "cell_type": "code",
   "execution_count": null,
   "metadata": {
    "collapsed": true
   },
   "outputs": [],
   "source": [
    "# Basic Operations\n",
    "len('abc')\n",
    "'abc' + 'def'\n",
    "'foo' * 3\n",
    "# Indexing and Slicing\n",
    "S = 'spam'\n",
    "S[0], S[−2]\n",
    "S[1:3], S[1:], S[:−1]\n",
    "S = 'abcdefghijklmnop'\n",
    "S[1:10:2]\n",
    "S[::2]\n",
    "S[::−1]         # Get in reverse.\n"
   ]
  },
  {
   "cell_type": "code",
   "execution_count": null,
   "metadata": {
    "collapsed": true
   },
   "outputs": [],
   "source": [
    "# String Formatting Expressions\n",
    "'That is %d %s bird!' % (1, 'dead')\n",
    "'%(qty)d more %(food)s' % {'qty': 1, 'food': 'spam'}\n",
    "X = '{motto}, {0} and {food}'.format(42, motto=3.14, food=[1, 2])"
   ]
  },
  {
   "cell_type": "markdown",
   "metadata": {},
   "source": [
    "List"
   ]
  },
  {
   "cell_type": "code",
   "execution_count": null,
   "metadata": {
    "collapsed": true
   },
   "outputs": [],
   "source": [
    "L = []\n",
    "L = [123, 'abc', 1.23, {}]\n",
    "L = ['Bob', 40.0, ['dev', 'mgr']]\n",
    "L = list('spam')\n",
    "del L[i]\n",
    "del L[i:j]\n"
   ]
  }
 ],
 "metadata": {
  "kernelspec": {
   "display_name": "Python 3",
   "language": "python",
   "name": "python3"
  },
  "language_info": {
   "codemirror_mode": {
    "name": "ipython",
    "version": 3
   },
   "file_extension": ".py",
   "mimetype": "text/x-python",
   "name": "python",
   "nbconvert_exporter": "python",
   "pygments_lexer": "ipython3",
   "version": "3.5.0b4"
  }
 },
 "nbformat": 4,
 "nbformat_minor": 0
}
