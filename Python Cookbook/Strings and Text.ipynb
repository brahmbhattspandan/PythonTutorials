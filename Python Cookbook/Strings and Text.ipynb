{
 "cells": [
  {
   "cell_type": "markdown",
   "metadata": {},
   "source": [
    "# This notebook is created from book - Python Cookbook by David Beazley\n",
    "# Ch - 2 Strings and Text"
   ]
  },
  {
   "cell_type": "markdown",
   "metadata": {},
   "source": [
    "## Splitting Strings on Any of Multiple Delimiters"
   ]
  },
  {
   "cell_type": "code",
   "execution_count": null,
   "metadata": {
    "collapsed": true
   },
   "outputs": [],
   "source": [
    "line = 'asdf fjdk; afed, fjek,asdf, foo'\n",
    "# Split it using delimiters ; , and white space. \n",
    "# Hint : Use re.split()"
   ]
  },
  {
   "cell_type": "markdown",
   "metadata": {},
   "source": [
    "## Matching Text at the Start or End of a String"
   ]
  },
  {
   "cell_type": "code",
   "execution_count": null,
   "metadata": {
    "collapsed": true
   },
   "outputs": [],
   "source": [
    "filename = 'spam.txt'\n",
    "# Check if string contains .txt at the end.\n",
    "url = 'http://www.python.org'\n",
    "# Check if it starts with http\n",
    "# Hint String has endswith and startwith functions"
   ]
  },
  {
   "cell_type": "code",
   "execution_count": null,
   "metadata": {
    "collapsed": true
   },
   "outputs": [],
   "source": [
    "filenames = [ 'Makefile', 'foo.c', 'bar.py', 'spam.c', 'spam.h' ]\n",
    "# Find all files containing extension .h and .c\n",
    "# Hint : Use same method as above with multiple parameters."
   ]
  },
  {
   "cell_type": "markdown",
   "metadata": {},
   "source": [
    "## Matching Strings Using Shell Wildcard Patterns"
   ]
  },
  {
   "cell_type": "code",
   "execution_count": null,
   "metadata": {
    "collapsed": true
   },
   "outputs": [],
   "source": [
    "from fnmatch import fnmatch, fnmatchcase\n",
    "fnmatch('foo.txt', '*.txt')\n",
    "fnmatch('foo.txt', '?oo.txt')\n",
    "fnmatch('Dat45.csv', 'Dat[0-9]*')\n",
    "# All gives true.\n",
    "addresses = [\n",
    "        '5412 N CLARK ST',\n",
    "        '1060 W ADDISON ST',\n",
    "        '1039 W GRANVILLE AVE',\n",
    "        '2122 N CLARK ST',\n",
    "        '4802 N BROADWAY',\n",
    "]\n",
    "# Match cases which have \"ST\" in them. Use for comprehension to store result."
   ]
  },
  {
   "cell_type": "markdown",
   "metadata": {},
   "source": [
    "## Matching and Searching for Text Patterns"
   ]
  },
  {
   "cell_type": "code",
   "execution_count": null,
   "metadata": {
    "collapsed": true
   },
   "outputs": [],
   "source": [
    "text1 = '11/27/2012'\n",
    "text2 = 'Nov 27, 2012'\n",
    "re.match(r'\\d+/\\d+/\\d+', text1)      # True.  \\d+ means match one or more digits\n",
    "datepat = re.compile(r'\\d+/\\d+/\\d+')\n",
    "text = 'Today is 11/27/2012. PyCon starts 3/13/2013.'\n",
    "datepat.findall(text)     # ['11/27/2012', '3/13/2013']\n",
    "datepat = re.compile(r'(\\d+)/(\\d+)/(\\d+)')\n",
    "m = datepat.match('11/27/2012')\n",
    "m.group(0) # '11/27/2012'\n",
    "m.group(1) # '11'\n",
    "m.group(2) # '27'\n",
    "m.groups()"
   ]
  },
  {
   "cell_type": "code",
   "execution_count": null,
   "metadata": {
    "collapsed": true
   },
   "outputs": [],
   "source": [
    "d = '857-265-9879' \n",
    "# Extract the number."
   ]
  },
  {
   "cell_type": "markdown",
   "metadata": {},
   "source": [
    "## Searching and Replacing Text"
   ]
  },
  {
   "cell_type": "code",
   "execution_count": null,
   "metadata": {
    "collapsed": true
   },
   "outputs": [],
   "source": [
    "text = 'yeah, but no, but yeah, but no, but yeah'\n",
    "# Replace 'yeah' with 'yea'. Use replace function\n",
    "da = 'Today is 02/13/2016. Seminar starts 3/13/2016.'\n",
    "# Chance date format to mm-dd-yyyy. Use re.sub(oldpattern,newpattern,string)"
   ]
  },
  {
   "cell_type": "markdown",
   "metadata": {},
   "source": [
    "## Searching and Replacing Case-Insensitive Text"
   ]
  },
  {
   "cell_type": "code",
   "execution_count": null,
   "metadata": {
    "collapsed": true
   },
   "outputs": [],
   "source": [
    "text = 'UPPER PYTHON, lower python, Mixed Python'\n",
    "# Find all instance of 'python'. Hint : Use flags=re.IGNORECASE"
   ]
  },
  {
   "cell_type": "markdown",
   "metadata": {},
   "source": [
    "## Stripping Unwanted Characters from Strings"
   ]
  },
  {
   "cell_type": "code",
   "execution_count": null,
   "metadata": {
    "collapsed": true
   },
   "outputs": [],
   "source": [
    "s = ' hello world \\n'\n",
    "# Remove white space 1. both side. 2. Left 3. Right. Hint : Use strip function."
   ]
  },
  {
   "cell_type": "markdown",
   "metadata": {},
   "source": [
    "## Combining and Concatenating Strings"
   ]
  },
  {
   "cell_type": "code",
   "execution_count": null,
   "metadata": {
    "collapsed": true
   },
   "outputs": [],
   "source": [
    "parts = ['Is', 'Chicago', 'Not', 'Chicago?']\n",
    "# Use join method to join the elements of list. Use white space, comma as seperator."
   ]
  }
 ],
 "metadata": {
  "kernelspec": {
   "display_name": "Python 3",
   "language": "python",
   "name": "python3"
  },
  "language_info": {
   "codemirror_mode": {
    "name": "ipython",
    "version": 3
   },
   "file_extension": ".py",
   "mimetype": "text/x-python",
   "name": "python",
   "nbconvert_exporter": "python",
   "pygments_lexer": "ipython3",
   "version": "3.5.0b4"
  }
 },
 "nbformat": 4,
 "nbformat_minor": 0
}
