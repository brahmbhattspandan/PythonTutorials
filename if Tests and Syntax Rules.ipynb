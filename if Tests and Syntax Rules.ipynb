{
 "cells": [
  {
   "cell_type": "markdown",
   "metadata": {},
   "source": [
    "If Statement"
   ]
  },
  {
   "cell_type": "code",
   "execution_count": null,
   "metadata": {
    "collapsed": true
   },
   "outputs": [],
   "source": [
    "x = 3\n",
    "if x == 1:\n",
    "    print('one')\n",
    "elif x == 2:\n",
    "    print('two')\n",
    "else :\n",
    "    print('three')"
   ]
  },
  {
   "cell_type": "code",
   "execution_count": null,
   "metadata": {
    "collapsed": true
   },
   "outputs": [],
   "source": [
    "# Ternary Operator      A = Y if X else Z"
   ]
  },
  {
   "cell_type": "markdown",
   "metadata": {},
   "source": [
    "While Loop"
   ]
  },
  {
   "cell_type": "code",
   "execution_count": null,
   "metadata": {
    "collapsed": true
   },
   "outputs": [],
   "source": [
    "'''\n",
    "while test: \n",
    "    statements\n",
    "else:\n",
    "    statements                # Run if didn't exit loop with break\n",
    "'''\n",
    "a=0; b=10\n",
    "while a < b:\n",
    "    print(a, end=' ')\n",
    "    a += 1\n",
    "\n",
    "'''\n",
    "while test: \n",
    "    statements\n",
    "    if test: break           # Exit loop now, skip else if present\n",
    "    if test: continue        # Go to top of loop now, to test1\n",
    "else:\n",
    "    statements\n",
    "'''\n",
    "x = 10 \n",
    "while x:\n",
    "    x = x−1\n",
    "    if x % 2 != 0: continue \n",
    "    print(x, end=' ')"
   ]
  },
  {
   "cell_type": "markdown",
   "metadata": {},
   "source": [
    "For Loop"
   ]
  },
  {
   "cell_type": "code",
   "execution_count": null,
   "metadata": {
    "collapsed": true
   },
   "outputs": [],
   "source": [
    "'''\n",
    "for target in object: \n",
    "    statements\n",
    "    if test: break\n",
    "    if test: continue \n",
    "else:\n",
    "    statements\n",
    "'''\n",
    "for x in [\"spam\", \"eggs\", \"ham\"]:\n",
    "    print(x, end=' ')\n",
    "\n",
    "    \n",
    "T = [(1, 2), (3, 4), (5, 6)]\n",
    "for (a, b) in T:\n",
    "    print(a, b)\n",
    "    \n",
    "# Only in Python 3.X\n",
    "for (a, *b, c) in [(1, 2, 3, 4), (5, 6, 7, 8)]: \n",
    "    print(a, b, c)"
   ]
  },
  {
   "cell_type": "code",
   "execution_count": null,
   "metadata": {
    "collapsed": true
   },
   "outputs": [],
   "source": [
    "# Counter Loops: range\n",
    "list(range(5)), list(range(2, 5)), list(range(0, 10, 2))\n",
    "for i in range(3):\n",
    "    print(i, 'Pythons')\n",
    "X = 'spam'\n",
    "for item in X: print(item, end=' ')\n",
    "# Parallel Traversals: zip\n",
    "L1 = [1,2,3,4]\n",
    "L2 = [5,6,7,8]\n",
    "list(zip(L1, L2))\n",
    "for (x, y) in zip(L1, L2):\n",
    "    print(x, y, '--', x+y)"
   ]
  },
  {
   "cell_type": "code",
   "execution_count": null,
   "metadata": {
    "collapsed": true
   },
   "outputs": [],
   "source": [
    "# Iterations and Comprehensions\n",
    "\n",
    "for x in [1, 2, 3, 4]: print(x ** 2, end=' ')\n",
    "    \n",
    "for line in open('script2.py'):\n",
    "    print(line.upper(), end='')\n",
    "    \n",
    "# Iterator vs Comprehension \n",
    "\n",
    "L = [1, 2, 3, 4, 5]\n",
    "for i in range(len(L)):\n",
    "    L[i] += 10\n",
    "# is same as\n",
    "L = [x + 10 for x in L]\n",
    "\n",
    "# Filter Clause :\n",
    "\n",
    "[line.upper() for line in open('script2.py')]\n",
    "lines = [line.rstrip() for line in open('script2.py') if line[0] == 'p']\n",
    "\n",
    "# Nested For Loop :\n",
    "\n",
    "[x + y for x in 'abc' for y in 'lmn']\n"
   ]
  }
 ],
 "metadata": {
  "kernelspec": {
   "display_name": "Python 3",
   "language": "python",
   "name": "python3"
  },
  "language_info": {
   "codemirror_mode": {
    "name": "ipython",
    "version": 3
   },
   "file_extension": ".py",
   "mimetype": "text/x-python",
   "name": "python",
   "nbconvert_exporter": "python",
   "pygments_lexer": "ipython3",
   "version": "3.5.0b4"
  }
 },
 "nbformat": 4,
 "nbformat_minor": 0
}
