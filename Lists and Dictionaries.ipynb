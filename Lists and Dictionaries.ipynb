{
 "cells": [
  {
   "cell_type": "markdown",
   "metadata": {},
   "source": [
    "## Lists\n",
    "- Ordered collections of arbitrary objects\n",
    "- Accessed by offset\n",
    "- Variable-length, heterogeneous, and arbitrarily nestable\n",
    "- Of the category “mutable sequence”"
   ]
  },
  {
   "cell_type": "code",
   "execution_count": null,
   "metadata": {
    "collapsed": true
   },
   "outputs": [],
   "source": [
    "L = []\n",
    "L = [123, 'abc', 1.23, {}]\n",
    "L = ['Bob', 40.0, ['dev', 'mgr']]\n",
    "L = list('spam')\n",
    "L = list(range(-4, 4))\n",
    "\n",
    "[1, 2, 3] + [4, 5, 6]\n",
    "\n",
    "res = [c * 4 for c in 'SPAM']"
   ]
  },
  {
   "cell_type": "code",
   "execution_count": null,
   "metadata": {
    "collapsed": true
   },
   "outputs": [],
   "source": [
    "L = ['spam', 'Spam', 'SPAM!']\n",
    "L[2]             # 'SPAM!'\n",
    "L[−2]            # 'Spam'\n",
    "L[1:]            # ['Spam', 'SPAM!']\n",
    "\n",
    "L[1] = 'eggs'            # ['spam', 'eggs', 'SPAM!']\n",
    "L[0:2] = ['eat', 'more'] # ['eat', 'more', 'SPAM!']"
   ]
  },
  {
   "cell_type": "code",
   "execution_count": null,
   "metadata": {
    "collapsed": true
   },
   "outputs": [],
   "source": [
    "L = ['abc', 'ABD', 'aBe']\n",
    "L.sort()\n",
    "L.sort(key=str.lower)\n",
    "L.sort(key=str.lower, reverse=True)\n",
    "L.reverse()\n",
    "del L[0]"
   ]
  },
  {
   "cell_type": "markdown",
   "metadata": {},
   "source": [
    "## Dictionary\n",
    "- Accessed by key, not offset position\n",
    "- Unordered collections of arbitrary objects\n",
    "- Variable-length, heterogeneous, and arbitrarily nestable\n",
    "- Of the category “mutable mapping”"
   ]
  },
  {
   "cell_type": "code",
   "execution_count": null,
   "metadata": {
    "collapsed": true
   },
   "outputs": [],
   "source": [
    "D = {}\n",
    "D = {'name': 'Bob', 'age': 40}\n",
    "E = {'cto': {'name': 'Bob', 'age': 40}}      # Nesting\n",
    "D['name']\n",
    "D.keys()\n",
    "D.values()\n",
    "D.get('height', 88)           # If missing"
   ]
  },
  {
   "cell_type": "code",
   "execution_count": null,
   "metadata": {
    "collapsed": true
   },
   "outputs": [],
   "source": [
    "D = {k: v for (k, v) in zip(['a', 'b', 'c'], [1, 2, 3])}    # {'b': 2, 'c': 3, 'a': 1}\n",
    "D = {x: x ** 2 for x in [1, 2, 3, 4]}                       # {1: 1, 2: 4, 3: 9, 4: 16}"
   ]
  },
  {
   "cell_type": "markdown",
   "metadata": {},
   "source": [
    "## Tuples\n",
    "- Ordered collections of arbitrary objects\n",
    "- Accessed by offset\n",
    "- Of the category “immutable sequence”\n",
    "- Fixed-length, heterogeneous, and arbitrarily nestable"
   ]
  },
  {
   "cell_type": "code",
   "execution_count": null,
   "metadata": {
    "collapsed": true
   },
   "outputs": [],
   "source": [
    "()\n",
    "T = (0,)\n",
    "T = (0, 'Ni', 1.2, 3)\n",
    "T = 0, 'Ni', 1.2, 3\n",
    "T = ('Bob', ('dev', 'mgr'))\n",
    "(1, 2) + (3, 4)\n",
    "# x = (40)   This makes x = 40 An Integer\n",
    "y = (40,)"
   ]
  },
  {
   "cell_type": "code",
   "execution_count": null,
   "metadata": {
    "collapsed": true
   },
   "outputs": [],
   "source": [
    "T = (1, 2, 3, 4, 5)\n",
    "L = [x + 20 for x in T]"
   ]
  },
  {
   "cell_type": "markdown",
   "metadata": {},
   "source": [
    "## Files"
   ]
  },
  {
   "cell_type": "code",
   "execution_count": null,
   "metadata": {
    "collapsed": true
   },
   "outputs": [],
   "source": [
    "\"\"\"\n",
    "Opening Files\n",
    "    afile = open(filename, mode) \n",
    "    afile.method()\n",
    "\"\"\"\n",
    "output = open(r'C:\\spam', 'w')\n",
    "input = open('data', 'r')\n",
    "input = open('data')                  # r is default\n",
    "\n",
    "aString = input.read()     # Read entire file\n",
    "aString = input.readline()\n",
    "aList = input.readlines()\n",
    "\n",
    "output.write(aString)\n",
    "output.writelines(aList)\n",
    "output.close()"
   ]
  },
  {
   "cell_type": "code",
   "execution_count": null,
   "metadata": {
    "collapsed": true
   },
   "outputs": [],
   "source": [
    "for line in open('myfile.txt'): # Use file iterators, not reads\n",
    "    print(line, end='')\n"
   ]
  }
 ],
 "metadata": {
  "kernelspec": {
   "display_name": "Python 3",
   "language": "python",
   "name": "python3"
  },
  "language_info": {
   "codemirror_mode": {
    "name": "ipython",
    "version": 3
   },
   "file_extension": ".py",
   "mimetype": "text/x-python",
   "name": "python",
   "nbconvert_exporter": "python",
   "pygments_lexer": "ipython3",
   "version": "3.5.0b4"
  }
 },
 "nbformat": 4,
 "nbformat_minor": 0
}
